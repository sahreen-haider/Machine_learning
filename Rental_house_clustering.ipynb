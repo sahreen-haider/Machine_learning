{
 "cells": [
  {
   "cell_type": "markdown",
   "metadata": {},
   "source": [
    "# Cluster similar Houses"
   ]
  },
  {
   "cell_type": "code",
   "execution_count": 71,
   "metadata": {},
   "outputs": [],
   "source": [
    "# importing necessary libraries\n",
    "\n",
    "import numpy as np\n",
    "import pandas as pd\n",
    "from sklearn.preprocessing import MinMaxScaler, StandardScaler, normalize\n",
    "from scipy.cluster.hierarchy import dendrogram,linkage\n",
    "from sklearn.cluster import KMeans\n",
    "from scipy.cluster import hierarchy\n",
    "from scipy.spatial.distance import cdist\n",
    "from scipy import stats\n",
    "from sklearn.decomposition import PCA\n",
    "from sklearn.cluster import AgglomerativeClustering\n",
    "from sklearn import metrics\n",
    "from sklearn.metrics import silhouette_score\n",
    "import seaborn as sns\n",
    "import scipy.cluster.hierarchy as shc\n",
    "import matplotlib.pyplot as plt\n",
    "from matplotlib import rc_context, rcParams\n",
    "%matplotlib inline\n"
   ]
  },
  {
   "cell_type": "code",
   "execution_count": 72,
   "metadata": {},
   "outputs": [
    {
     "data": {
      "text/html": [
       "<div>\n",
       "<style scoped>\n",
       "    .dataframe tbody tr th:only-of-type {\n",
       "        vertical-align: middle;\n",
       "    }\n",
       "\n",
       "    .dataframe tbody tr th {\n",
       "        vertical-align: top;\n",
       "    }\n",
       "\n",
       "    .dataframe thead th {\n",
       "        text-align: right;\n",
       "    }\n",
       "</style>\n",
       "<table border=\"1\" class=\"dataframe\">\n",
       "  <thead>\n",
       "    <tr style=\"text-align: right;\">\n",
       "      <th></th>\n",
       "      <th>Unnamed: 0</th>\n",
       "      <th>Sqft</th>\n",
       "      <th>Floor</th>\n",
       "      <th>TotalFloor</th>\n",
       "      <th>Bedroom</th>\n",
       "      <th>Living.Room</th>\n",
       "      <th>Bathroom</th>\n",
       "      <th>Price</th>\n",
       "    </tr>\n",
       "  </thead>\n",
       "  <tbody>\n",
       "    <tr>\n",
       "      <th>0</th>\n",
       "      <td>1</td>\n",
       "      <td>1177.698</td>\n",
       "      <td>2</td>\n",
       "      <td>7</td>\n",
       "      <td>2</td>\n",
       "      <td>2</td>\n",
       "      <td>2</td>\n",
       "      <td>62000</td>\n",
       "    </tr>\n",
       "    <tr>\n",
       "      <th>1</th>\n",
       "      <td>2</td>\n",
       "      <td>2134.800</td>\n",
       "      <td>5</td>\n",
       "      <td>7</td>\n",
       "      <td>4</td>\n",
       "      <td>2</td>\n",
       "      <td>2</td>\n",
       "      <td>78000</td>\n",
       "    </tr>\n",
       "    <tr>\n",
       "      <th>2</th>\n",
       "      <td>3</td>\n",
       "      <td>1138.560</td>\n",
       "      <td>5</td>\n",
       "      <td>7</td>\n",
       "      <td>2</td>\n",
       "      <td>2</td>\n",
       "      <td>1</td>\n",
       "      <td>58000</td>\n",
       "    </tr>\n",
       "    <tr>\n",
       "      <th>3</th>\n",
       "      <td>4</td>\n",
       "      <td>1458.780</td>\n",
       "      <td>2</td>\n",
       "      <td>7</td>\n",
       "      <td>3</td>\n",
       "      <td>2</td>\n",
       "      <td>2</td>\n",
       "      <td>45000</td>\n",
       "    </tr>\n",
       "    <tr>\n",
       "      <th>4</th>\n",
       "      <td>5</td>\n",
       "      <td>967.776</td>\n",
       "      <td>11</td>\n",
       "      <td>14</td>\n",
       "      <td>3</td>\n",
       "      <td>2</td>\n",
       "      <td>2</td>\n",
       "      <td>45000</td>\n",
       "    </tr>\n",
       "  </tbody>\n",
       "</table>\n",
       "</div>"
      ],
      "text/plain": [
       "   Unnamed: 0      Sqft  Floor  TotalFloor  Bedroom  Living.Room  Bathroom  \\\n",
       "0           1  1177.698      2           7        2            2         2   \n",
       "1           2  2134.800      5           7        4            2         2   \n",
       "2           3  1138.560      5           7        2            2         1   \n",
       "3           4  1458.780      2           7        3            2         2   \n",
       "4           5   967.776     11          14        3            2         2   \n",
       "\n",
       "   Price  \n",
       "0  62000  \n",
       "1  78000  \n",
       "2  58000  \n",
       "3  45000  \n",
       "4  45000  "
      ]
     },
     "execution_count": 72,
     "metadata": {},
     "output_type": "execute_result"
    }
   ],
   "source": [
    "df = pd.read_csv('/Users/sahreenhaider/Documents/GitHub/data-science-complete-tutorial/Data/house_rental_data.csv.txt')\n",
    "df.head()"
   ]
  },
  {
   "cell_type": "markdown",
   "metadata": {},
   "source": [
    "### Data Preprocessing"
   ]
  },
  {
   "cell_type": "code",
   "execution_count": 73,
   "metadata": {},
   "outputs": [
    {
     "data": {
      "text/plain": [
       "Unnamed: 0       int64\n",
       "Sqft           float64\n",
       "Floor            int64\n",
       "TotalFloor       int64\n",
       "Bedroom          int64\n",
       "Living.Room      int64\n",
       "Bathroom         int64\n",
       "Price            int64\n",
       "dtype: object"
      ]
     },
     "execution_count": 73,
     "metadata": {},
     "output_type": "execute_result"
    }
   ],
   "source": [
    "# cehecking for all datatypes of the features of the dataset/ need to ensure that everything is numerical\n",
    "df.dtypes"
   ]
  },
  {
   "cell_type": "code",
   "execution_count": 74,
   "metadata": {},
   "outputs": [
    {
     "data": {
      "text/plain": [
       "Index(['Unnamed: 0', 'Sqft', 'Floor', 'TotalFloor', 'Bedroom', 'Living.Room',\n",
       "       'Bathroom', 'Price'],\n",
       "      dtype='object')"
      ]
     },
     "execution_count": 74,
     "metadata": {},
     "output_type": "execute_result"
    }
   ],
   "source": [
    "df.columns"
   ]
  },
  {
   "cell_type": "markdown",
   "metadata": {},
   "source": [
    "### checking the correlation"
   ]
  },
  {
   "cell_type": "code",
   "execution_count": 75,
   "metadata": {},
   "outputs": [
    {
     "data": {
      "text/html": [
       "<div>\n",
       "<style scoped>\n",
       "    .dataframe tbody tr th:only-of-type {\n",
       "        vertical-align: middle;\n",
       "    }\n",
       "\n",
       "    .dataframe tbody tr th {\n",
       "        vertical-align: top;\n",
       "    }\n",
       "\n",
       "    .dataframe thead th {\n",
       "        text-align: right;\n",
       "    }\n",
       "</style>\n",
       "<table border=\"1\" class=\"dataframe\">\n",
       "  <thead>\n",
       "    <tr style=\"text-align: right;\">\n",
       "      <th></th>\n",
       "      <th>Unnamed: 0</th>\n",
       "      <th>Sqft</th>\n",
       "      <th>Floor</th>\n",
       "      <th>TotalFloor</th>\n",
       "      <th>Bedroom</th>\n",
       "      <th>Living.Room</th>\n",
       "      <th>Bathroom</th>\n",
       "      <th>Price</th>\n",
       "    </tr>\n",
       "  </thead>\n",
       "  <tbody>\n",
       "    <tr>\n",
       "      <th>Unnamed: 0</th>\n",
       "      <td>1.000000</td>\n",
       "      <td>-0.065182</td>\n",
       "      <td>-0.021299</td>\n",
       "      <td>-0.039687</td>\n",
       "      <td>-0.008638</td>\n",
       "      <td>-0.027035</td>\n",
       "      <td>-0.007877</td>\n",
       "      <td>-0.077512</td>\n",
       "    </tr>\n",
       "    <tr>\n",
       "      <th>Sqft</th>\n",
       "      <td>-0.065182</td>\n",
       "      <td>1.000000</td>\n",
       "      <td>0.143249</td>\n",
       "      <td>0.304515</td>\n",
       "      <td>0.615608</td>\n",
       "      <td>0.455940</td>\n",
       "      <td>0.728869</td>\n",
       "      <td>0.825514</td>\n",
       "    </tr>\n",
       "    <tr>\n",
       "      <th>Floor</th>\n",
       "      <td>-0.021299</td>\n",
       "      <td>0.143249</td>\n",
       "      <td>1.000000</td>\n",
       "      <td>0.564221</td>\n",
       "      <td>0.023986</td>\n",
       "      <td>-0.023563</td>\n",
       "      <td>0.099772</td>\n",
       "      <td>0.244553</td>\n",
       "    </tr>\n",
       "    <tr>\n",
       "      <th>TotalFloor</th>\n",
       "      <td>-0.039687</td>\n",
       "      <td>0.304515</td>\n",
       "      <td>0.564221</td>\n",
       "      <td>1.000000</td>\n",
       "      <td>0.067298</td>\n",
       "      <td>0.029373</td>\n",
       "      <td>0.146132</td>\n",
       "      <td>0.333631</td>\n",
       "    </tr>\n",
       "    <tr>\n",
       "      <th>Bedroom</th>\n",
       "      <td>-0.008638</td>\n",
       "      <td>0.615608</td>\n",
       "      <td>0.023986</td>\n",
       "      <td>0.067298</td>\n",
       "      <td>1.000000</td>\n",
       "      <td>0.526532</td>\n",
       "      <td>0.643083</td>\n",
       "      <td>0.467059</td>\n",
       "    </tr>\n",
       "    <tr>\n",
       "      <th>Living.Room</th>\n",
       "      <td>-0.027035</td>\n",
       "      <td>0.455940</td>\n",
       "      <td>-0.023563</td>\n",
       "      <td>0.029373</td>\n",
       "      <td>0.526532</td>\n",
       "      <td>1.000000</td>\n",
       "      <td>0.546826</td>\n",
       "      <td>0.328788</td>\n",
       "    </tr>\n",
       "    <tr>\n",
       "      <th>Bathroom</th>\n",
       "      <td>-0.007877</td>\n",
       "      <td>0.728869</td>\n",
       "      <td>0.099772</td>\n",
       "      <td>0.146132</td>\n",
       "      <td>0.643083</td>\n",
       "      <td>0.546826</td>\n",
       "      <td>1.000000</td>\n",
       "      <td>0.605542</td>\n",
       "    </tr>\n",
       "    <tr>\n",
       "      <th>Price</th>\n",
       "      <td>-0.077512</td>\n",
       "      <td>0.825514</td>\n",
       "      <td>0.244553</td>\n",
       "      <td>0.333631</td>\n",
       "      <td>0.467059</td>\n",
       "      <td>0.328788</td>\n",
       "      <td>0.605542</td>\n",
       "      <td>1.000000</td>\n",
       "    </tr>\n",
       "  </tbody>\n",
       "</table>\n",
       "</div>"
      ],
      "text/plain": [
       "             Unnamed: 0      Sqft     Floor  TotalFloor   Bedroom  \\\n",
       "Unnamed: 0     1.000000 -0.065182 -0.021299   -0.039687 -0.008638   \n",
       "Sqft          -0.065182  1.000000  0.143249    0.304515  0.615608   \n",
       "Floor         -0.021299  0.143249  1.000000    0.564221  0.023986   \n",
       "TotalFloor    -0.039687  0.304515  0.564221    1.000000  0.067298   \n",
       "Bedroom       -0.008638  0.615608  0.023986    0.067298  1.000000   \n",
       "Living.Room   -0.027035  0.455940 -0.023563    0.029373  0.526532   \n",
       "Bathroom      -0.007877  0.728869  0.099772    0.146132  0.643083   \n",
       "Price         -0.077512  0.825514  0.244553    0.333631  0.467059   \n",
       "\n",
       "             Living.Room  Bathroom     Price  \n",
       "Unnamed: 0     -0.027035 -0.007877 -0.077512  \n",
       "Sqft            0.455940  0.728869  0.825514  \n",
       "Floor          -0.023563  0.099772  0.244553  \n",
       "TotalFloor      0.029373  0.146132  0.333631  \n",
       "Bedroom         0.526532  0.643083  0.467059  \n",
       "Living.Room     1.000000  0.546826  0.328788  \n",
       "Bathroom        0.546826  1.000000  0.605542  \n",
       "Price           0.328788  0.605542  1.000000  "
      ]
     },
     "execution_count": 75,
     "metadata": {},
     "output_type": "execute_result"
    }
   ],
   "source": [
    "df.corr()"
   ]
  },
  {
   "cell_type": "markdown",
   "metadata": {},
   "source": [
    "#### checking the plots to lookout for ouliers"
   ]
  },
  {
   "cell_type": "code",
   "execution_count": 76,
   "metadata": {},
   "outputs": [
    {
     "data": {
      "image/png": "[encoded data removed]",
      "text/plain": [
       "<Figure size 360x360 with 1 Axes>"
      ]
     },
     "metadata": {},
     "output_type": "display_data"
    }
   ],
   "source": [
    "# displot of the feature Sqft from the dataset\n",
    "with rc_context({'figure.facecolor':'white'}):\n",
    "    sns.displot(df['Sqft'],kind='kde')"
   ]
  },
  {
   "cell_type": "code",
   "execution_count": 77,
   "metadata": {},
   "outputs": [
    {
     "data": {
      "image/png": "[encoded data removed]",
      "text/plain": [
       "<Figure size 432x288 with 1 Axes>"
      ]
     },
     "metadata": {},
     "output_type": "display_data"
    }
   ],
   "source": [
    "# box-plot of Sqft feature from the dataset in horizontal orientation\n",
    "with rc_context({'figure.facecolor':'white'}):\n",
    "    sns.boxplot(df['Sqft'],orient='h');"
   ]
  },
  {
   "cell_type": "code",
   "execution_count": 78,
   "metadata": {},
   "outputs": [
    {
     "name": "stderr",
     "output_type": "stream",
     "text": [
      "/var/folders/m7/2q2nw8bx5jvc18fd_ry4hq840000gn/T/ipykernel_5336/44920994.py:1: SettingWithCopyWarning: \n",
      "A value is trying to be set on a copy of a slice from a DataFrame\n",
      "\n",
      "See the caveats in the documentation: https://pandas.pydata.org/pandas-docs/stable/user_guide/indexing.html#returning-a-view-versus-a-copy\n",
      "  df['Sqft'].loc[df['Sqft']>df['Sqft'].quantile(0.93)] = (df['Sqft'].loc[df['Sqft']<df['Sqft'].quantile(0.93)]).mean()\n"
     ]
    }
   ],
   "source": [
    "df['Sqft'].loc[df['Sqft']>df['Sqft'].quantile(0.93)] = (df['Sqft'].loc[df['Sqft']<df['Sqft'].quantile(0.93)]).mean()"
   ]
  },
  {
   "cell_type": "code",
   "execution_count": 79,
   "metadata": {},
   "outputs": [
    {
     "data": {
      "image/png": "[encoded data removed]",
      "text/plain": [
       "<Figure size 432x288 with 1 Axes>"
      ]
     },
     "metadata": {},
     "output_type": "display_data"
    }
   ],
   "source": [
    "# box-plot of Sqft feature from the dataset in horizontal orientation\n",
    "with rc_context({'figure.facecolor':'white'}):\n",
    "    sns.boxplot(df['Sqft'],orient='h');"
   ]
  },
  {
   "cell_type": "code",
   "execution_count": 80,
   "metadata": {},
   "outputs": [
    {
     "data": {
      "image/png": "[encoded data removed]",
      "text/plain": [
       "<Figure size 360x360 with 1 Axes>"
      ]
     },
     "metadata": {},
     "output_type": "display_data"
    }
   ],
   "source": [
    "# displot for the feature Price from the dataset\n",
    "with rc_context({'figure.facecolor':'white'}):\n",
    "    sns.displot(df['Price'],kind='kde');"
   ]
  },
  {
   "cell_type": "code",
   "execution_count": 81,
   "metadata": {},
   "outputs": [
    {
     "data": {
      "image/png": "[encoded data removed]",
      "text/plain": [
       "<Figure size 432x288 with 1 Axes>"
      ]
     },
     "metadata": {},
     "output_type": "display_data"
    }
   ],
   "source": [
    "# Box-Plot of the feature Price for the the dataset\n",
    "with rc_context({'figure.facecolor':'white'}):\n",
    "    sns.boxplot(df[\"Price\"],orient='h')"
   ]
  },
  {
   "cell_type": "code",
   "execution_count": 82,
   "metadata": {},
   "outputs": [
    {
     "name": "stderr",
     "output_type": "stream",
     "text": [
      "/var/folders/m7/2q2nw8bx5jvc18fd_ry4hq840000gn/T/ipykernel_5336/2839488763.py:1: SettingWithCopyWarning: \n",
      "A value is trying to be set on a copy of a slice from a DataFrame\n",
      "\n",
      "See the caveats in the documentation: https://pandas.pydata.org/pandas-docs/stable/user_guide/indexing.html#returning-a-view-versus-a-copy\n",
      "  df['Price'].loc[df['Price']>df['Price'].quantile(0.90)] = (df['Price'].loc[df['Price']<df['Price'].quantile(0.90)]).mean()\n"
     ]
    }
   ],
   "source": [
    "df['Price'].loc[df['Price']>df['Price'].quantile(0.90)] = (df['Price'].loc[df['Price']<df['Price'].quantile(0.90)]).mean()"
   ]
  },
  {
   "cell_type": "code",
   "execution_count": 83,
   "metadata": {},
   "outputs": [
    {
     "data": {
      "image/png": "[encoded data removed]",
      "text/plain": [
       "<Figure size 432x288 with 1 Axes>"
      ]
     },
     "metadata": {},
     "output_type": "display_data"
    }
   ],
   "source": [
    "# Box-Plot of the feature Price for the the dataset\n",
    "with rc_context({'figure.facecolor':'white'}):\n",
    "    sns.boxplot(df[\"Price\"],orient='h')"
   ]
  },
  {
   "cell_type": "code",
   "execution_count": 84,
   "metadata": {},
   "outputs": [
    {
     "data": {
      "text/plain": [
       "Index(['Unnamed: 0', 'Sqft', 'Floor', 'TotalFloor', 'Bedroom', 'Living.Room',\n",
       "       'Bathroom', 'Price'],\n",
       "      dtype='object')"
      ]
     },
     "execution_count": 84,
     "metadata": {},
     "output_type": "execute_result"
    }
   ],
   "source": [
    "df.columns"
   ]
  },
  {
   "cell_type": "code",
   "execution_count": 85,
   "metadata": {},
   "outputs": [],
   "source": [
    "# with rc_context({'figure.facecolor':'white'}):\n",
    "#     plt.figure(figsize=(10,8))\n",
    "#     sns.boxplot(df[['Bedroom','Bathroom']], orient='h')"
   ]
  },
  {
   "cell_type": "code",
   "execution_count": 86,
   "metadata": {},
   "outputs": [],
   "source": [
    "# with rc_context({'figure.facecolor':'white'}):\n",
    "#     plt.figure(figsize=(10,8))\n",
    "#     sns.boxplot(df[['Bathroom']])"
   ]
  },
  {
   "cell_type": "code",
   "execution_count": 87,
   "metadata": {},
   "outputs": [],
   "source": [
    "# with rc_context({'figure.facecolor':'white'}):\n",
    "#     plt.figure(figsize=(10,8))\n",
    "#     sns.distplot(df[['Bathroom']])"
   ]
  },
  {
   "cell_type": "code",
   "execution_count": 89,
   "metadata": {},
   "outputs": [
    {
     "data": {
      "image/png": "[encoded data removed]",
      "text/plain": [
       "<Figure size 720x576 with 2 Axes>"
      ]
     },
     "metadata": {},
     "output_type": "display_data"
    }
   ],
   "source": [
    "with rc_context({'figure.facecolor':'white'}):\n",
    "    plt.figure(figsize=(10,8))\n",
    "    sns.heatmap(df.corr(),annot=True)"
   ]
  },
  {
   "cell_type": "code",
   "execution_count": 90,
   "metadata": {},
   "outputs": [],
   "source": [
    "# np.percentile(df[['Bathroom']],75 , interpolation='midpoint')"
   ]
  },
  {
   "cell_type": "code",
   "execution_count": 91,
   "metadata": {},
   "outputs": [],
   "source": [
    "# stats.iqr(df['Bathroom'],interpolation='midpoint')"
   ]
  },
  {
   "cell_type": "code",
   "execution_count": 92,
   "metadata": {},
   "outputs": [],
   "source": [
    "# z = np.abs(stats.zscore(df['Bathroom']))\n",
    "# threshold = 3\n",
    "# print(np.where(z>3))"
   ]
  },
  {
   "cell_type": "code",
   "execution_count": 93,
   "metadata": {},
   "outputs": [],
   "source": [
    "# df['Bathroom'].loc[621]"
   ]
  },
  {
   "cell_type": "code",
   "execution_count": 94,
   "metadata": {},
   "outputs": [],
   "source": [
    "# scaling the data \n",
    "scaler = StandardScaler()"
   ]
  },
  {
   "cell_type": "code",
   "execution_count": 95,
   "metadata": {},
   "outputs": [
    {
     "data": {
      "text/plain": [
       "Index(['Unnamed: 0', 'Sqft', 'Floor', 'TotalFloor', 'Bedroom', 'Living.Room',\n",
       "       'Bathroom', 'Price'],\n",
       "      dtype='object')"
      ]
     },
     "execution_count": 95,
     "metadata": {},
     "output_type": "execute_result"
    }
   ],
   "source": [
    "df.columns"
   ]
  },
  {
   "cell_type": "code",
   "execution_count": 96,
   "metadata": {},
   "outputs": [],
   "source": [
    "df.rename(columns={'Unnamed: 0':'Index'}, inplace=True)"
   ]
  },
  {
   "cell_type": "code",
   "execution_count": 97,
   "metadata": {},
   "outputs": [],
   "source": [
    "df.set_index('Index',inplace=True)"
   ]
  },
  {
   "cell_type": "code",
   "execution_count": 98,
   "metadata": {},
   "outputs": [
    {
     "data": {
      "text/html": [
       "<div>\n",
       "<style scoped>\n",
       "    .dataframe tbody tr th:only-of-type {\n",
       "        vertical-align: middle;\n",
       "    }\n",
       "\n",
       "    .dataframe tbody tr th {\n",
       "        vertical-align: top;\n",
       "    }\n",
       "\n",
       "    .dataframe thead th {\n",
       "        text-align: right;\n",
       "    }\n",
       "</style>\n",
       "<table border=\"1\" class=\"dataframe\">\n",
       "  <thead>\n",
       "    <tr style=\"text-align: right;\">\n",
       "      <th></th>\n",
       "      <th>Sqft</th>\n",
       "      <th>Floor</th>\n",
       "      <th>TotalFloor</th>\n",
       "      <th>Bedroom</th>\n",
       "      <th>Living.Room</th>\n",
       "      <th>Bathroom</th>\n",
       "      <th>Price</th>\n",
       "    </tr>\n",
       "    <tr>\n",
       "      <th>Index</th>\n",
       "      <th></th>\n",
       "      <th></th>\n",
       "      <th></th>\n",
       "      <th></th>\n",
       "      <th></th>\n",
       "      <th></th>\n",
       "      <th></th>\n",
       "    </tr>\n",
       "  </thead>\n",
       "  <tbody>\n",
       "    <tr>\n",
       "      <th>1</th>\n",
       "      <td>1177.698</td>\n",
       "      <td>2</td>\n",
       "      <td>7</td>\n",
       "      <td>2</td>\n",
       "      <td>2</td>\n",
       "      <td>2</td>\n",
       "      <td>62000.0</td>\n",
       "    </tr>\n",
       "    <tr>\n",
       "      <th>2</th>\n",
       "      <td>2134.800</td>\n",
       "      <td>5</td>\n",
       "      <td>7</td>\n",
       "      <td>4</td>\n",
       "      <td>2</td>\n",
       "      <td>2</td>\n",
       "      <td>78000.0</td>\n",
       "    </tr>\n",
       "    <tr>\n",
       "      <th>3</th>\n",
       "      <td>1138.560</td>\n",
       "      <td>5</td>\n",
       "      <td>7</td>\n",
       "      <td>2</td>\n",
       "      <td>2</td>\n",
       "      <td>1</td>\n",
       "      <td>58000.0</td>\n",
       "    </tr>\n",
       "    <tr>\n",
       "      <th>4</th>\n",
       "      <td>1458.780</td>\n",
       "      <td>2</td>\n",
       "      <td>7</td>\n",
       "      <td>3</td>\n",
       "      <td>2</td>\n",
       "      <td>2</td>\n",
       "      <td>45000.0</td>\n",
       "    </tr>\n",
       "    <tr>\n",
       "      <th>5</th>\n",
       "      <td>967.776</td>\n",
       "      <td>11</td>\n",
       "      <td>14</td>\n",
       "      <td>3</td>\n",
       "      <td>2</td>\n",
       "      <td>2</td>\n",
       "      <td>45000.0</td>\n",
       "    </tr>\n",
       "  </tbody>\n",
       "</table>\n",
       "</div>"
      ],
      "text/plain": [
       "           Sqft  Floor  TotalFloor  Bedroom  Living.Room  Bathroom    Price\n",
       "Index                                                                      \n",
       "1      1177.698      2           7        2            2         2  62000.0\n",
       "2      2134.800      5           7        4            2         2  78000.0\n",
       "3      1138.560      5           7        2            2         1  58000.0\n",
       "4      1458.780      2           7        3            2         2  45000.0\n",
       "5       967.776     11          14        3            2         2  45000.0"
      ]
     },
     "execution_count": 98,
     "metadata": {},
     "output_type": "execute_result"
    }
   ],
   "source": [
    "df.head()"
   ]
  },
  {
   "cell_type": "code",
   "execution_count": 99,
   "metadata": {},
   "outputs": [],
   "source": [
    "df[['Sqft', 'Floor', 'TotalFloor', 'Bedroom', 'Living.Room', 'Bathroom','Price']] = scaler.fit_transform(df[['Sqft', 'Floor', 'TotalFloor', 'Bedroom', 'Living.Room', 'Bathroom','Price']])"
   ]
  },
  {
   "cell_type": "code",
   "execution_count": 100,
   "metadata": {},
   "outputs": [
    {
     "data": {
      "text/html": [
       "<div>\n",
       "<style scoped>\n",
       "    .dataframe tbody tr th:only-of-type {\n",
       "        vertical-align: middle;\n",
       "    }\n",
       "\n",
       "    .dataframe tbody tr th {\n",
       "        vertical-align: top;\n",
       "    }\n",
       "\n",
       "    .dataframe thead th {\n",
       "        text-align: right;\n",
       "    }\n",
       "</style>\n",
       "<table border=\"1\" class=\"dataframe\">\n",
       "  <thead>\n",
       "    <tr style=\"text-align: right;\">\n",
       "      <th></th>\n",
       "      <th>Sqft</th>\n",
       "      <th>Floor</th>\n",
       "      <th>TotalFloor</th>\n",
       "      <th>Bedroom</th>\n",
       "      <th>Living.Room</th>\n",
       "      <th>Bathroom</th>\n",
       "      <th>Price</th>\n",
       "    </tr>\n",
       "    <tr>\n",
       "      <th>Index</th>\n",
       "      <th></th>\n",
       "      <th></th>\n",
       "      <th></th>\n",
       "      <th></th>\n",
       "      <th></th>\n",
       "      <th></th>\n",
       "      <th></th>\n",
       "    </tr>\n",
       "  </thead>\n",
       "  <tbody>\n",
       "    <tr>\n",
       "      <th>1</th>\n",
       "      <td>-0.391932</td>\n",
       "      <td>-1.014897</td>\n",
       "      <td>-0.772347</td>\n",
       "      <td>-0.828956</td>\n",
       "      <td>0.402694</td>\n",
       "      <td>0.276918</td>\n",
       "      <td>0.463304</td>\n",
       "    </tr>\n",
       "    <tr>\n",
       "      <th>2</th>\n",
       "      <td>1.414160</td>\n",
       "      <td>-0.242042</td>\n",
       "      <td>-0.772347</td>\n",
       "      <td>1.151328</td>\n",
       "      <td>0.402694</td>\n",
       "      <td>0.276918</td>\n",
       "      <td>1.268865</td>\n",
       "    </tr>\n",
       "    <tr>\n",
       "      <th>3</th>\n",
       "      <td>-0.465788</td>\n",
       "      <td>-0.242042</td>\n",
       "      <td>-0.772347</td>\n",
       "      <td>-0.828956</td>\n",
       "      <td>0.402694</td>\n",
       "      <td>-1.187117</td>\n",
       "      <td>0.261914</td>\n",
       "    </tr>\n",
       "    <tr>\n",
       "      <th>4</th>\n",
       "      <td>0.138481</td>\n",
       "      <td>-1.014897</td>\n",
       "      <td>-0.772347</td>\n",
       "      <td>0.161186</td>\n",
       "      <td>0.402694</td>\n",
       "      <td>0.276918</td>\n",
       "      <td>-0.392604</td>\n",
       "    </tr>\n",
       "    <tr>\n",
       "      <th>5</th>\n",
       "      <td>-0.788064</td>\n",
       "      <td>1.303669</td>\n",
       "      <td>0.629803</td>\n",
       "      <td>0.161186</td>\n",
       "      <td>0.402694</td>\n",
       "      <td>0.276918</td>\n",
       "      <td>-0.392604</td>\n",
       "    </tr>\n",
       "  </tbody>\n",
       "</table>\n",
       "</div>"
      ],
      "text/plain": [
       "           Sqft     Floor  TotalFloor   Bedroom  Living.Room  Bathroom  \\\n",
       "Index                                                                    \n",
       "1     -0.391932 -1.014897   -0.772347 -0.828956     0.402694  0.276918   \n",
       "2      1.414160 -0.242042   -0.772347  1.151328     0.402694  0.276918   \n",
       "3     -0.465788 -0.242042   -0.772347 -0.828956     0.402694 -1.187117   \n",
       "4      0.138481 -1.014897   -0.772347  0.161186     0.402694  0.276918   \n",
       "5     -0.788064  1.303669    0.629803  0.161186     0.402694  0.276918   \n",
       "\n",
       "          Price  \n",
       "Index            \n",
       "1      0.463304  \n",
       "2      1.268865  \n",
       "3      0.261914  \n",
       "4     -0.392604  \n",
       "5     -0.392604  "
      ]
     },
     "execution_count": 100,
     "metadata": {},
     "output_type": "execute_result"
    }
   ],
   "source": [
    "df.head()"
   ]
  },
  {
   "cell_type": "code",
   "execution_count": 101,
   "metadata": {},
   "outputs": [
    {
     "data": {
      "text/html": [
       "<div>\n",
       "<style scoped>\n",
       "    .dataframe tbody tr th:only-of-type {\n",
       "        vertical-align: middle;\n",
       "    }\n",
       "\n",
       "    .dataframe tbody tr th {\n",
       "        vertical-align: top;\n",
       "    }\n",
       "\n",
       "    .dataframe thead th {\n",
       "        text-align: right;\n",
       "    }\n",
       "</style>\n",
       "<table border=\"1\" class=\"dataframe\">\n",
       "  <thead>\n",
       "    <tr style=\"text-align: right;\">\n",
       "      <th></th>\n",
       "      <th>Sqft</th>\n",
       "      <th>Floor</th>\n",
       "      <th>TotalFloor</th>\n",
       "      <th>Bedroom</th>\n",
       "      <th>Living.Room</th>\n",
       "      <th>Bathroom</th>\n",
       "      <th>Price</th>\n",
       "    </tr>\n",
       "  </thead>\n",
       "  <tbody>\n",
       "    <tr>\n",
       "      <th>Sqft</th>\n",
       "      <td>1.000000</td>\n",
       "      <td>0.040825</td>\n",
       "      <td>0.215455</td>\n",
       "      <td>0.651136</td>\n",
       "      <td>0.473889</td>\n",
       "      <td>0.558733</td>\n",
       "      <td>0.671401</td>\n",
       "    </tr>\n",
       "    <tr>\n",
       "      <th>Floor</th>\n",
       "      <td>0.040825</td>\n",
       "      <td>1.000000</td>\n",
       "      <td>0.564221</td>\n",
       "      <td>0.023986</td>\n",
       "      <td>-0.023563</td>\n",
       "      <td>0.099772</td>\n",
       "      <td>0.032078</td>\n",
       "    </tr>\n",
       "    <tr>\n",
       "      <th>TotalFloor</th>\n",
       "      <td>0.215455</td>\n",
       "      <td>0.564221</td>\n",
       "      <td>1.000000</td>\n",
       "      <td>0.067298</td>\n",
       "      <td>0.029373</td>\n",
       "      <td>0.146132</td>\n",
       "      <td>0.230210</td>\n",
       "    </tr>\n",
       "    <tr>\n",
       "      <th>Bedroom</th>\n",
       "      <td>0.651136</td>\n",
       "      <td>0.023986</td>\n",
       "      <td>0.067298</td>\n",
       "      <td>1.000000</td>\n",
       "      <td>0.526532</td>\n",
       "      <td>0.643083</td>\n",
       "      <td>0.467748</td>\n",
       "    </tr>\n",
       "    <tr>\n",
       "      <th>Living.Room</th>\n",
       "      <td>0.473889</td>\n",
       "      <td>-0.023563</td>\n",
       "      <td>0.029373</td>\n",
       "      <td>0.526532</td>\n",
       "      <td>1.000000</td>\n",
       "      <td>0.546826</td>\n",
       "      <td>0.322641</td>\n",
       "    </tr>\n",
       "    <tr>\n",
       "      <th>Bathroom</th>\n",
       "      <td>0.558733</td>\n",
       "      <td>0.099772</td>\n",
       "      <td>0.146132</td>\n",
       "      <td>0.643083</td>\n",
       "      <td>0.546826</td>\n",
       "      <td>1.000000</td>\n",
       "      <td>0.423836</td>\n",
       "    </tr>\n",
       "    <tr>\n",
       "      <th>Price</th>\n",
       "      <td>0.671401</td>\n",
       "      <td>0.032078</td>\n",
       "      <td>0.230210</td>\n",
       "      <td>0.467748</td>\n",
       "      <td>0.322641</td>\n",
       "      <td>0.423836</td>\n",
       "      <td>1.000000</td>\n",
       "    </tr>\n",
       "  </tbody>\n",
       "</table>\n",
       "</div>"
      ],
      "text/plain": [
       "                 Sqft     Floor  TotalFloor   Bedroom  Living.Room  Bathroom  \\\n",
       "Sqft         1.000000  0.040825    0.215455  0.651136     0.473889  0.558733   \n",
       "Floor        0.040825  1.000000    0.564221  0.023986    -0.023563  0.099772   \n",
       "TotalFloor   0.215455  0.564221    1.000000  0.067298     0.029373  0.146132   \n",
       "Bedroom      0.651136  0.023986    0.067298  1.000000     0.526532  0.643083   \n",
       "Living.Room  0.473889 -0.023563    0.029373  0.526532     1.000000  0.546826   \n",
       "Bathroom     0.558733  0.099772    0.146132  0.643083     0.546826  1.000000   \n",
       "Price        0.671401  0.032078    0.230210  0.467748     0.322641  0.423836   \n",
       "\n",
       "                Price  \n",
       "Sqft         0.671401  \n",
       "Floor        0.032078  \n",
       "TotalFloor   0.230210  \n",
       "Bedroom      0.467748  \n",
       "Living.Room  0.322641  \n",
       "Bathroom     0.423836  \n",
       "Price        1.000000  "
      ]
     },
     "execution_count": 101,
     "metadata": {},
     "output_type": "execute_result"
    }
   ],
   "source": [
    "df.corr()"
   ]
  },
  {
   "cell_type": "code",
   "execution_count": 102,
   "metadata": {},
   "outputs": [],
   "source": [
    "distortions = []\n",
    "inertias = []\n",
    "mapping1 = {}\n",
    "mapping2 = {}\n",
    "K = range(1, 15)\n",
    "\n",
    "# Making a seperate array file having data for Annual income and spending score\n",
    "array1 = df['Price'].to_numpy()\n",
    "array3 =df['Sqft'].to_numpy()\n",
    "array = np.array(list(zip(array1, array3))).reshape(len(array1), 2)\n",
    "\n",
    "for k in K:\n",
    "    # Building and fitting the model\n",
    "    kmeanModel = KMeans(n_clusters=k).fit(array)\n",
    "    kmeanModel.fit(array)\n",
    "\n",
    "    distortions.append(sum(np.min(cdist(array, kmeanModel.cluster_centers_,\n",
    "                                        'euclidean'), axis=1)) / array.shape[0])\n",
    "    inertias.append(kmeanModel.inertia_)\n",
    "\n",
    "    mapping1[k] = sum(np.min(cdist(array, kmeanModel.cluster_centers_,\n",
    "                                   'euclidean'), axis=1)) / array.shape[0]\n",
    "    mapping2[k] = kmeanModel.inertia_"
   ]
  },
  {
   "cell_type": "code",
   "execution_count": 103,
   "metadata": {},
   "outputs": [
    {
     "name": "stdout",
     "output_type": "stream",
     "text": [
      "1 : 1.2120969533636667\n",
      "2 : 0.8260899397337135\n",
      "3 : 0.6423168088770795\n",
      "4 : 0.5467487812332501\n",
      "5 : 0.5162321063807697\n",
      "6 : 0.4733502685176786\n",
      "7 : 0.4280114100342073\n",
      "8 : 0.39661352230751423\n",
      "9 : 0.365041466219948\n",
      "10 : 0.34762985347817627\n",
      "11 : 0.3280563732364595\n",
      "12 : 0.3183333926277209\n",
      "13 : 0.3081053128884735\n",
      "14 : 0.29463282559394577\n"
     ]
    },
    {
     "data": {
      "image/png": "[encoded data removed]",
      "text/plain": [
       "<Figure size 432x288 with 1 Axes>"
      ]
     },
     "metadata": {},
     "output_type": "display_data"
    }
   ],
   "source": [
    "# Using Distortion -\n",
    "# Tabulating the results -\n",
    "\n",
    "for key,val in mapping1.items():\n",
    "    print(str(key)+' : '+str(val))\n",
    "\n",
    "# Visualizing the result -\n",
    "\n",
    "with rc_context({'figure.facecolor':'white'}):\n",
    "    plt.plot(K, distortions, 'bx-')\n",
    "    plt.xlabel('Values of K')\n",
    "    plt.ylabel('Distortion')\n",
    "    plt.title('The Elbow Method using Distortion')\n",
    "    plt.show()"
   ]
  },
  {
   "cell_type": "code",
   "execution_count": 104,
   "metadata": {},
   "outputs": [
    {
     "name": "stdout",
     "output_type": "stream",
     "text": [
      "1 : 1289.9999999999998\n",
      "2 : 536.8444986390666\n",
      "3 : 342.356881364075\n",
      "4 : 251.45480779852625\n",
      "5 : 213.80825242400275\n",
      "6 : 182.8170897187622\n",
      "7 : 154.99499688070338\n",
      "8 : 133.94165774693852\n",
      "9 : 116.56876455002903\n",
      "10 : 104.69967041096372\n",
      "11 : 92.42127738768608\n",
      "12 : 83.23495900195104\n",
      "13 : 78.95225736212069\n",
      "14 : 72.17544260919777\n"
     ]
    },
    {
     "data": {
      "image/png": "[encoded data removed]",
      "text/plain": [
       "<Figure size 432x288 with 1 Axes>"
      ]
     },
     "metadata": {},
     "output_type": "display_data"
    }
   ],
   "source": [
    "# Using Inertias -\n",
    "# Tabulating the results -\n",
    "\n",
    "for key,val in mapping2.items():\n",
    "    print(str(key)+' : '+str(val))\n",
    "\n",
    "# Visualizing the result -\n",
    "with rc_context({'figure.facecolor':'white'}):\n",
    "    plt.plot(K, inertias, 'bx-')\n",
    "    plt.xlabel('Values of K')\n",
    "    plt.ylabel('Inertia')\n",
    "    plt.title('The Elbow Method using Inertia')\n",
    "    plt.show()"
   ]
  },
  {
   "cell_type": "code",
   "execution_count": 105,
   "metadata": {},
   "outputs": [
    {
     "data": {
      "text/plain": [
       "array([[ 0.46330426, -0.39193242],\n",
       "       [ 1.26886495,  1.41416026],\n",
       "       [ 0.26191409, -0.46578751],\n",
       "       [-0.39260398,  0.13848142],\n",
       "       [-0.39260398, -0.78806427]])"
      ]
     },
     "execution_count": 105,
     "metadata": {},
     "output_type": "execute_result"
    }
   ],
   "source": [
    "array[:5]"
   ]
  },
  {
   "cell_type": "code",
   "execution_count": 108,
   "metadata": {},
   "outputs": [
    {
     "name": "stdout",
     "output_type": "stream",
     "text": [
      "[[-0.50829998 -1.16143886]\n",
      " [ 0.94947062  0.55839237]\n",
      " [-0.78500069 -0.3037004 ]\n",
      " [-0.03651633  0.67057377]\n",
      " [ 2.18055407  1.29703653]\n",
      " [ 0.04559001  1.68011319]\n",
      " [-1.317895   -1.3251922 ]\n",
      " [ 2.03973417  0.01775338]\n",
      " [-0.04490859 -0.05286462]\n",
      " [ 1.15959471  1.50758623]]\n"
     ]
    },
    {
     "data": {
      "image/png": "[encoded data removed]",
      "text/plain": [
       "<Figure size 432x288 with 1 Axes>"
      ]
     },
     "metadata": {
      "needs_background": "light"
     },
     "output_type": "display_data"
    }
   ],
   "source": [
    "# Finding Centroids -\n",
    "data = pd.DataFrame(array, columns=('Price','Sqft'))\n",
    "data.head()\n",
    "\n",
    "kmeans = KMeans(n_clusters=10).fit(data)\n",
    "centroids = kmeans.cluster_centers_\n",
    "print(centroids)\n",
    "\n",
    "plt.scatter(df['Price'], df['Sqft'], c= kmeans.labels_.astype(float))\n",
    "plt.scatter(centroids[:, 0], centroids[:, 1], c='red')\n",
    "plt.show()"
   ]
  },
  {
   "cell_type": "code",
   "execution_count": null,
   "metadata": {},
   "outputs": [],
   "source": []
  }
 ],
 "metadata": {
  "kernelspec": {
   "display_name": "Python 3.10.2 64-bit",
   "language": "python",
   "name": "python3"
  },
  "language_info": {
   "codemirror_mode": {
    "name": "ipython",
    "version": 3
   },
   "file_extension": ".py",
   "mimetype": "text/x-python",
   "name": "python",
   "nbconvert_exporter": "python",
   "pygments_lexer": "ipython3",
   "version": "3.10.2"
  },
  "orig_nbformat": 4,
  "vscode": {
   "interpreter": {
    "hash": "aee8b7b246df8f9039afb4144a1f6fd8d2ca17a180786b69acc140d282b71a49"
   }
  }
 },
 "nbformat": 4,
 "nbformat_minor": 2
}
